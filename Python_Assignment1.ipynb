{
 "cells": [
  {
   "cell_type": "markdown",
   "metadata": {},
   "source": [
    "Q.1 In the below elements which of them are values or an expression? eg:- values can be\n",
    "integer or string and expressions will be mathematical operators.\n",
    "*\n",
    "&#39;hello&#39;\n",
    "-87.8\n",
    "-\n",
    "/\n",
    "+\n",
    "6\n",
    "\n",
    "Ans 1: \n",
    "* -expression\n",
    "&#39;hello&#39; -values\n",
    "-87.8 -values\n",
    "- - expression\n",
    "/ -expression\n",
    "+ -expression\n",
    "6 - values"
   ]
  },
  {
   "cell_type": "code",
   "execution_count": null,
   "metadata": {},
   "outputs": [],
   "source": [
    "2. What is the difference between string and variable?\n",
    "Ans : Variable is a placeholder for an object value which can be of any data type like integer ,float,string,list etc.String is a \n",
    "    type of variable which stroes the string type of values can consist characters,sentences,numbers,symbols etc.\n",
    "    "
   ]
  },
  {
   "cell_type": "markdown",
   "metadata": {},
   "source": [
    "3. Describe three different data types.\n",
    "Ans : Numbers : int,float\n",
    "      Strings\n",
    "      Boolean - bool\n",
    "      Set\n",
    "      List\n",
    "      touple\n",
    "      Dictionary : dict"
   ]
  },
  {
   "cell_type": "markdown",
   "metadata": {},
   "source": [
    "4.What is an expression made up of? What do all expressions do?\n",
    "Ans: Expression is made up of combination of values,variables,operators and operands. Expression represents the value so they\n",
    "    need to be evaluated"
   ]
  },
  {
   "cell_type": "markdown",
   "metadata": {},
   "source": [
    "5. This assignment statements, like spam = 10. What is the difference between an\n",
    "expression and a statement?\n",
    "\n",
    "Ans: statement is the instruction that interpreter can just excute. like assignment, while statement,if statement etc.where as\n",
    "    Expression is a combination of variables, numbersm operators,operands ,expression needs to be evaluted  by the interpreter.\n",
    "    like a+b*c/d"
   ]
  },
  {
   "cell_type": "markdown",
   "metadata": {},
   "source": [
    "6.After running the following code, what does the variable bacon contain?\n",
    "bacon = 22\n",
    "bacon + 1\n",
    "\n",
    "Ans= bacon will contain 22"
   ]
  },
  {
   "cell_type": "markdown",
   "metadata": {},
   "source": [
    "7.What should the values of the following two terms be?\n",
    "\n",
    "'spam'+'spamspam'\n",
    "'spam'*3\n",
    "\n",
    "Ans : both will have output as 'spamspamspam'"
   ]
  },
  {
   "cell_type": "markdown",
   "metadata": {},
   "source": [
    "8. Why is eggs a valid variable name while 100 is invalid?\n",
    "\n",
    "Ans. 100 is a literal so it can not be the cvariable name.while egg is a plain string so it can be a valid variable name"
   ]
  },
  {
   "cell_type": "markdown",
   "metadata": {},
   "source": [
    "9.What three functions can be used to get the integer, floating-point number, or string\n",
    "version of a value?\n",
    "\n",
    "Ans :\n",
    "int() to get interger version of a value\n",
    "float () to get float version of a value\n",
    "str() to get string version of a value\n"
   ]
  },
  {
   "cell_type": "markdown",
   "metadata": {},
   "source": [
    "10.Why does this expression cause an error? How can you fix it?\n",
    "'I have eaten'+ 99 +'burritos';\n",
    "\n",
    "Ans : this expression cause an error because it can onlu concatnate str to str not int\n",
    "it can be handled by using function str () as follows to get string value of it.\n",
    "\n",
    "'I have eaten'+ str(99) +'burritos';\n",
    "\n",
    "or we can make it string literal to handle the error\n",
    "'I have eaten'+ '99' +'burritos';"
   ]
  }
 ],
 "metadata": {
  "kernelspec": {
   "display_name": "Python 3",
   "language": "python",
   "name": "python3"
  },
  "language_info": {
   "codemirror_mode": {
    "name": "ipython",
    "version": 3
   },
   "file_extension": ".py",
   "mimetype": "text/x-python",
   "name": "python",
   "nbconvert_exporter": "python",
   "pygments_lexer": "ipython3",
   "version": "3.7.6"
  }
 },
 "nbformat": 4,
 "nbformat_minor": 4
}
