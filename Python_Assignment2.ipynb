{
 "cells": [
  {
   "cell_type": "markdown",
   "metadata": {},
   "source": [
    "1.What are the two values of the Boolean data type? How do you write them?\n",
    "\n",
    "Ans: True and False \n",
    " "
   ]
  },
  {
   "cell_type": "markdown",
   "metadata": {},
   "source": [
    "2. What are the three different types of Boolean operators?\n",
    "\n",
    "Ans : and ,or,not are three boolean logical operators "
   ]
  },
  {
   "cell_type": "markdown",
   "metadata": {},
   "source": [
    "3. Make a list of each Boolean operator's truth tables (i.e. every possible combination of Boolean\n",
    "values for the operator and what it evaluate ).\n",
    "\n",
    "Ans : T for True and F for False\n",
    "(1 )And\n",
    "T and T= T\n",
    "T and F =F\n",
    "F and T =F\n",
    "F and F =F\n",
    "\n",
    "(2) Or\n",
    "T or T= T\n",
    "T or F =T\n",
    "F or T =T\n",
    "F or F =F\n",
    "\n",
    "(3)not\n",
    "not T = F\n",
    "not F =T\n"
   ]
  },
  {
   "cell_type": "markdown",
   "metadata": {},
   "source": [
    "4. What are the values of the following expressions?\n",
    "(5>  4) and (3 == 5)   \n",
    "not (5 > 4)\n",
    "(5 > 4) or (3 == 5)\n",
    "not ((5> 4) or (3 == 5))\n",
    "(True and True) and (True == False)\n",
    "(not False) or (not True)\n",
    "\n",
    "Ans : \n",
    "(5>  4) and (3 == 5)    - False\n",
    "not (5 > 4)  -   False\n",
    "(5 > 4) or (3 == 5)  - True\n",
    "not ((5> 4) or (3 == 5))  -False \n",
    "(True and True) and (True == False) -False\n",
    "(not False) or (not True) - True"
   ]
  },
  {
   "cell_type": "markdown",
   "metadata": {},
   "source": [
    "5. What are the six comparison operators?\n",
    "\n",
    "Ans :  \n",
    " 1.   ==  Equal to\n",
    " 2.   !=  Not Equal to\n",
    " 3.   >   Greater Than\n",
    " 4.   >=  Greater Than or equal to\n",
    " 5.   <   Less Than\n",
    " 6.   <=  Less Than or equal to"
   ]
  },
  {
   "cell_type": "markdown",
   "metadata": {},
   "source": [
    "6.How do you tell the difference between the equal to and assignment operators?Describe a\n",
    "condition and when you would use one.\n",
    "\n",
    "Ans :\n",
    "Equal to is a comparision operator  (==)which comapres 2 operands.while (=)euqal to is an assignment operator which is used to assign value of the right hand to the left hand variable.\n",
    "\n",
    "if we want to check weather name variable has a value \"abc\" we will write\n",
    "if(name=='abc'): \n",
    "    return true\n",
    "\n",
    "but if we simply want to assign value to name variable we can write\n",
    "\n",
    "name=\"ineuron\""
   ]
  },
  {
   "cell_type": "markdown",
   "metadata": {},
   "source": [
    "7.Identify the three blocks in this code:\n",
    "spam = 0\n",
    "if spam == 10:\n",
    "print('eggs')\n",
    "if spam > 5:\n",
    "print('bacon')\n",
    "else:\n",
    "print('ham')\n",
    "print('spam')\n",
    "print('spam')\n",
    "\n",
    "\n",
    "Ans : line no 3 should be indented as innerblock of if statement\n",
    "      if spam == 10:\n",
    "            print('eggs')\n",
    "      line no 5 should be indented as second innerblock of if statement\n",
    "      if spam > 5: \n",
    "            print('bacon')\n",
    "      line no 7 should be indented as else block statment\n",
    "      else:\n",
    "            print('ham')"
   ]
  },
  {
   "cell_type": "markdown",
   "metadata": {},
   "source": [
    "8.Write code that prints Hello if 1 is stored in spam, prints Howdy if 2 is stored in spam, and prints\n",
    "Greetings! if anything else is stored in spam.\n",
    "\n",
    "\n",
    "Ans: \n",
    "if(spam==1):\n",
    "    print (\"Hello\")\n",
    "elif(spam==2):\n",
    "    print(\"Howdy\")\n",
    "else:\n",
    "    print(\"Greeetings!\")"
   ]
  },
  {
   "cell_type": "code",
   "execution_count": null,
   "metadata": {},
   "outputs": [],
   "source": [
    "9.If your programme is stuck in an endless loop, what keys you’ll press?\n",
    "\n",
    "Ans:ctrl+C"
   ]
  },
  {
   "cell_type": "markdown",
   "metadata": {},
   "source": [
    "10.How can you tell the difference between break and continue?\n",
    "\n",
    "Ans: When the break keyword encounters, it terminates the execution of current loop and passes the control over to next loop or main body.Whereas Contunue comes,it skips the current iteration and executes the very next iteration in the loop.\n"
   ]
  },
  {
   "cell_type": "markdown",
   "metadata": {},
   "source": [
    "11.In a for loop, what is the difference between range(10), range(0, 10), and range(0, 10, 1)?\n",
    "Ans :\n",
    "    range(10) it will generate numbers between 0 to 10(excluding 10) in a step size of 1 as by default starting index is 0 ans step size is 1\n",
    "    range (0,10)it will generate numbers between 0 to 10 in a step size of 1 as by default step size is 1\n",
    "    range(0,10,1) (0,10)it will generate numbers between 0 to 10 in a step size of 1"
   ]
  },
  {
   "cell_type": "markdown",
   "metadata": {},
   "source": [
    "12.Write a short program that prints the numbers 1 to 10 using a for loop. Then write an equivalent\n",
    "program that prints the numbers 1 to 10 using a while loop.\n",
    "\n",
    "Ans : \n",
    "#For loop\n",
    "for i in range(1,11):\n",
    "    print (i)\n",
    "        \n",
    "   or \n",
    "[i for i in range(1,11)]\n",
    "        \n",
    "#while loop\n",
    "i=1\n",
    "while(i<11):\n",
    "    print (i)\n",
    "    i=i+1"
   ]
  },
  {
   "cell_type": "markdown",
   "metadata": {},
   "source": [
    "13.If you had a function named bacon() inside a module named spam, how would you call it after\n",
    "importing spam?\n",
    "\n",
    "Ans :\n",
    "import spam\n",
    "spam.bacon()"
   ]
  }
 ],
 "metadata": {
  "kernelspec": {
   "display_name": "Python 3",
   "language": "python",
   "name": "python3"
  },
  "language_info": {
   "codemirror_mode": {
    "name": "ipython",
    "version": 3
   },
   "file_extension": ".py",
   "mimetype": "text/x-python",
   "name": "python",
   "nbconvert_exporter": "python",
   "pygments_lexer": "ipython3",
   "version": "3.7.6"
  }
 },
 "nbformat": 4,
 "nbformat_minor": 4
}
